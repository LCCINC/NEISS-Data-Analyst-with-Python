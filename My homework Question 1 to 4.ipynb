{
 "cells": [
  {
   "cell_type": "code",
   "execution_count": 1,
   "metadata": {
    "collapsed": true
   },
   "outputs": [],
   "source": [
    "import pandas as pd\n",
    "\n",
    "mydata = pd.read_csv(\"NEISS2014.csv\") #Reading the dataset in a dataframe using Pandas"
   ]
  },
  {
   "cell_type": "code",
   "execution_count": 2,
   "metadata": {
    "collapsed": false,
    "scrolled": true
   },
   "outputs": [
    {
     "data": {
      "text/html": [
       "<div style=\"max-height:1000px;max-width:1500px;overflow:auto;\">\n",
       "<table border=\"1\" class=\"dataframe\">\n",
       "  <thead>\n",
       "    <tr style=\"text-align: right;\">\n",
       "      <th></th>\n",
       "      <th>CPSC Case #</th>\n",
       "      <th>trmt_date</th>\n",
       "      <th>psu</th>\n",
       "      <th>weight</th>\n",
       "      <th>stratum</th>\n",
       "      <th>age</th>\n",
       "      <th>sex</th>\n",
       "      <th>race</th>\n",
       "      <th>race_other</th>\n",
       "      <th>diag</th>\n",
       "      <th>diag_other</th>\n",
       "      <th>body_part</th>\n",
       "      <th>disposition</th>\n",
       "      <th>location</th>\n",
       "      <th>fmv</th>\n",
       "      <th>prod1</th>\n",
       "      <th>prod2</th>\n",
       "      <th>narrative</th>\n",
       "    </tr>\n",
       "  </thead>\n",
       "  <tbody>\n",
       "    <tr>\n",
       "      <th>0</th>\n",
       "      <td> 141200216</td>\n",
       "      <td> 10/23/14</td>\n",
       "      <td> 63</td>\n",
       "      <td> 99.704</td>\n",
       "      <td> M</td>\n",
       "      <td> 21</td>\n",
       "      <td> Female</td>\n",
       "      <td> None listed</td>\n",
       "      <td> NaN</td>\n",
       "      <td> 62</td>\n",
       "      <td> NaN</td>\n",
       "      <td> 75</td>\n",
       "      <td> 1</td>\n",
       "      <td> 1</td>\n",
       "      <td> 0</td>\n",
       "      <td>  679</td>\n",
       "      <td> 1807</td>\n",
       "      <td> 21YOF LAYING ON THE COUCH AND ROLLED OFF TO TH...</td>\n",
       "    </tr>\n",
       "    <tr>\n",
       "      <th>1</th>\n",
       "      <td> 140117851</td>\n",
       "      <td>   1/4/14</td>\n",
       "      <td> 63</td>\n",
       "      <td> 81.576</td>\n",
       "      <td> M</td>\n",
       "      <td> 62</td>\n",
       "      <td> Female</td>\n",
       "      <td>       White</td>\n",
       "      <td> NaN</td>\n",
       "      <td> 57</td>\n",
       "      <td> NaN</td>\n",
       "      <td> 79</td>\n",
       "      <td> 1</td>\n",
       "      <td> 1</td>\n",
       "      <td> 0</td>\n",
       "      <td> 1807</td>\n",
       "      <td>  115</td>\n",
       "      <td> 62YOF TRIPPED OVER THE CORD FOR THE VACUUM CLE...</td>\n",
       "    </tr>\n",
       "    <tr>\n",
       "      <th>2</th>\n",
       "      <td> 150144993</td>\n",
       "      <td>  8/17/14</td>\n",
       "      <td> 63</td>\n",
       "      <td> 99.704</td>\n",
       "      <td> M</td>\n",
       "      <td> 21</td>\n",
       "      <td> Female</td>\n",
       "      <td> None listed</td>\n",
       "      <td> NaN</td>\n",
       "      <td> 57</td>\n",
       "      <td> NaN</td>\n",
       "      <td> 83</td>\n",
       "      <td> 1</td>\n",
       "      <td> 0</td>\n",
       "      <td> 0</td>\n",
       "      <td> 1333</td>\n",
       "      <td>  NaN</td>\n",
       "      <td>   21YOF FELL OFF A SKATEBOARD AND FRACTURED FOOT </td>\n",
       "    </tr>\n",
       "    <tr>\n",
       "      <th>3</th>\n",
       "      <td> 150230176</td>\n",
       "      <td>  7/27/14</td>\n",
       "      <td> 63</td>\n",
       "      <td> 99.704</td>\n",
       "      <td> M</td>\n",
       "      <td> 30</td>\n",
       "      <td> Female</td>\n",
       "      <td> None listed</td>\n",
       "      <td> NaN</td>\n",
       "      <td> 64</td>\n",
       "      <td> NaN</td>\n",
       "      <td> 79</td>\n",
       "      <td> 1</td>\n",
       "      <td> 1</td>\n",
       "      <td> 0</td>\n",
       "      <td> 4076</td>\n",
       "      <td>  NaN</td>\n",
       "      <td> 30YOF TRYING TO GET OUT OF BED AND FELT A POP ...</td>\n",
       "    </tr>\n",
       "    <tr>\n",
       "      <th>4</th>\n",
       "      <td> 141220717</td>\n",
       "      <td>   9/8/14</td>\n",
       "      <td> 63</td>\n",
       "      <td> 99.704</td>\n",
       "      <td> M</td>\n",
       "      <td> 16</td>\n",
       "      <td>   Male</td>\n",
       "      <td> None listed</td>\n",
       "      <td> NaN</td>\n",
       "      <td> 57</td>\n",
       "      <td> NaN</td>\n",
       "      <td> 82</td>\n",
       "      <td> 1</td>\n",
       "      <td> 0</td>\n",
       "      <td> 0</td>\n",
       "      <td> 1893</td>\n",
       "      <td>  NaN</td>\n",
       "      <td>  16YOM HAD HAND SLAMMED IN A DOOR FRACTURED HAND </td>\n",
       "    </tr>\n",
       "  </tbody>\n",
       "</table>\n",
       "</div>"
      ],
      "text/plain": [
       "   CPSC Case # trmt_date  psu  weight stratum  age     sex         race  \\\n",
       "0    141200216  10/23/14   63  99.704       M   21  Female  None listed   \n",
       "1    140117851    1/4/14   63  81.576       M   62  Female        White   \n",
       "2    150144993   8/17/14   63  99.704       M   21  Female  None listed   \n",
       "3    150230176   7/27/14   63  99.704       M   30  Female  None listed   \n",
       "4    141220717    9/8/14   63  99.704       M   16    Male  None listed   \n",
       "\n",
       "  race_other  diag diag_other  body_part  disposition  location  fmv  prod1  \\\n",
       "0        NaN    62        NaN         75            1         1    0    679   \n",
       "1        NaN    57        NaN         79            1         1    0   1807   \n",
       "2        NaN    57        NaN         83            1         0    0   1333   \n",
       "3        NaN    64        NaN         79            1         1    0   4076   \n",
       "4        NaN    57        NaN         82            1         0    0   1893   \n",
       "\n",
       "   prod2                                          narrative  \n",
       "0   1807  21YOF LAYING ON THE COUCH AND ROLLED OFF TO TH...  \n",
       "1    115  62YOF TRIPPED OVER THE CORD FOR THE VACUUM CLE...  \n",
       "2    NaN    21YOF FELL OFF A SKATEBOARD AND FRACTURED FOOT   \n",
       "3    NaN  30YOF TRYING TO GET OUT OF BED AND FELT A POP ...  \n",
       "4    NaN   16YOM HAD HAND SLAMMED IN A DOOR FRACTURED HAND   "
      ]
     },
     "execution_count": 2,
     "metadata": {},
     "output_type": "execute_result"
    }
   ],
   "source": [
    "mydata.head(5) # take a quick look at the data"
   ]
  },
  {
   "cell_type": "code",
   "execution_count": 3,
   "metadata": {
    "collapsed": false,
    "scrolled": false
   },
   "outputs": [
    {
     "data": {
      "text/plain": [
       "count    65499.000000\n",
       "mean        64.188873\n",
       "std         24.066252\n",
       "min          0.000000\n",
       "25%         35.000000\n",
       "50%         75.000000\n",
       "75%         82.000000\n",
       "max         94.000000\n",
       "Name: body_part, dtype: float64"
      ]
     },
     "execution_count": 3,
     "metadata": {},
     "output_type": "execute_result"
    }
   ],
   "source": [
    "mydata['body_part'].describe()"
   ]
  },
  {
   "cell_type": "markdown",
   "metadata": {
    "collapsed": true
   },
   "source": [
    "# Question 1 \n"
   ]
  },
  {
   "cell_type": "markdown",
   "metadata": {},
   "source": [
    "# What are the top three body parts most frequently represented in this dataset?\n",
    "Answer: Most frequent three body parts are 75 which stands for head, 76 face, and 92 finger."
   ]
  },
  {
   "cell_type": "markdown",
   "metadata": {},
   "source": [
    "# What are the top three body parts that are least frequently represented?\n",
    "Answer: 84 stands for 25%-50% of body, 38 public region, 0 internal. Even 87 is the third least frequently body part but it is actually not record."
   ]
  },
  {
   "cell_type": "code",
   "execution_count": 4,
   "metadata": {
    "collapsed": false
   },
   "outputs": [
    {
     "data": {
      "text/plain": [
       "75    9891\n",
       "76    5786\n",
       "92    5783\n",
       "79    5717\n",
       "31    3868\n",
       "37    3781\n",
       "35    3616\n",
       "82    3369\n",
       "83    3090\n",
       "30    2675\n",
       "33    2561\n",
       "36    2239\n",
       "34    2116\n",
       "32    1612\n",
       "85    1422\n",
       "93    1280\n",
       "88    1254\n",
       "89    1080\n",
       "77     847\n",
       "94     782\n",
       "81     756\n",
       "80     745\n",
       "0      549\n",
       "87     390\n",
       "38     286\n",
       "84       4\n",
       "dtype: int64"
      ]
     },
     "execution_count": 4,
     "metadata": {},
     "output_type": "execute_result"
    }
   ],
   "source": [
    "mydata['body_part'].value_counts() #choose body_part column and count each of them. Data type is integer."
   ]
  },
  {
   "cell_type": "markdown",
   "metadata": {
    "collapsed": true
   },
   "source": [
    "# Question 2"
   ]
  },
  {
   "cell_type": "code",
   "execution_count": 5,
   "metadata": {
    "collapsed": false
   },
   "outputs": [],
   "source": [
    "skateboard = mydata[mydata['narrative'].str.contains(\"SKATEBOARD\")] \n",
    "#Injured with skateboard means the narrative of this case should contain key words related with skateboard."
   ]
  },
  {
   "cell_type": "markdown",
   "metadata": {},
   "source": [
    "# How many injuries in this dataset involve a skateboard?\n",
    "Answer: 466."
   ]
  },
  {
   "cell_type": "code",
   "execution_count": 6,
   "metadata": {
    "collapsed": false
   },
   "outputs": [
    {
     "name": "stdout",
     "output_type": "stream",
     "text": [
      "466\n"
     ]
    }
   ],
   "source": [
    "print skateboard.shape[0] #Look at how many injures are caused by skateboard."
   ]
  },
  {
   "cell_type": "code",
   "execution_count": 7,
   "metadata": {
    "collapsed": false
   },
   "outputs": [
    {
     "data": {
      "text/plain": [
       "466"
      ]
     },
     "execution_count": 7,
     "metadata": {},
     "output_type": "execute_result"
    }
   ],
   "source": [
    "len(skateboard) # Another way to see the same result."
   ]
  },
  {
   "cell_type": "markdown",
   "metadata": {
    "collapsed": false
   },
   "source": [
    "# Of those injuries, what percentage were male and what percentage were female?\n",
    "Answer: 17.5% were female and 82.4% were male."
   ]
  },
  {
   "cell_type": "code",
   "execution_count": 8,
   "metadata": {
    "collapsed": false
   },
   "outputs": [
    {
     "data": {
      "text/plain": [
       "sex\n",
       "Female    17.596567\n",
       "Male      82.403433\n",
       "dtype: float64"
      ]
     },
     "execution_count": 8,
     "metadata": {},
     "output_type": "execute_result"
    }
   ],
   "source": [
    "skateboard.groupby('sex').size()*100/len(skateboard)\n",
    "#I group the data by the column of sex to calculate their percentage in skateboard accident."
   ]
  },
  {
   "cell_type": "markdown",
   "metadata": {},
   "source": [
    "# What was the average age of someone injured in an incident involving a skateboard?\n",
    "Answer: 18 years old."
   ]
  },
  {
   "cell_type": "code",
   "execution_count": 9,
   "metadata": {
    "collapsed": false
   },
   "outputs": [
    {
     "data": {
      "text/plain": [
       "17.991416309012877"
      ]
     },
     "execution_count": 9,
     "metadata": {},
     "output_type": "execute_result"
    }
   ],
   "source": [
    "skateboard['age'].mean() # average age of those skateboard injures are only 18 years old."
   ]
  },
  {
   "cell_type": "markdown",
   "metadata": {
    "collapsed": true
   },
   "source": [
    "# Question 3"
   ]
  },
  {
   "cell_type": "code",
   "execution_count": 10,
   "metadata": {
    "collapsed": true
   },
   "outputs": [],
   "source": [
    "#In this case, disposition #4 means treated and admitted for hospitalization"
   ]
  },
  {
   "cell_type": "code",
   "execution_count": 11,
   "metadata": {
    "collapsed": false
   },
   "outputs": [],
   "source": [
    "hospital= mydata.loc[mydata['disposition'] == 4] \n",
    "#Choose records with treated for hospitalization and assign them to hospital"
   ]
  },
  {
   "cell_type": "code",
   "execution_count": 12,
   "metadata": {
    "collapsed": false
   },
   "outputs": [],
   "source": [
    "disposition_group4= hospital.groupby(['diag','disposition']).size()\n",
    "#Group all the hospital records by diagnosis and disposition to see their aggregation result. "
   ]
  },
  {
   "cell_type": "code",
   "execution_count": 13,
   "metadata": {
    "collapsed": true
   },
   "outputs": [],
   "source": [
    "diag_group= mydata.groupby(['diag']).size()\n",
    "#Calculate the total numbers for each diagnosis in original data"
   ]
  },
  {
   "cell_type": "code",
   "execution_count": 14,
   "metadata": {
    "collapsed": false
   },
   "outputs": [],
   "source": [
    "hospital_rate = disposition_group4.div(diag_group, level='diag') * 100\n",
    "#The patients treated for hospitalization divided by total patients in each diagnosis category\n",
    "#to calculate hospitalization rate."
   ]
  },
  {
   "cell_type": "code",
   "execution_count": 15,
   "metadata": {
    "collapsed": false
   },
   "outputs": [
    {
     "data": {
      "text/plain": [
       "diag  disposition\n",
       "69    4              42.592593\n",
       "57    4              18.602979\n",
       "50    4              16.000000\n",
       "68    4              12.154696\n",
       "62    4              11.873351\n",
       "41    4              11.594203\n",
       "47    4              10.526316\n",
       "67    4               9.375000\n",
       "61    4               8.585859\n",
       "58    4               7.865169\n",
       "65    4               7.647059\n",
       "42    4               7.575758\n",
       "71    4               7.549261\n",
       "48    4               7.397959\n",
       "51    4               5.273438\n",
       "52    4               4.682274\n",
       "55    4               4.352227\n",
       "72    4               3.560831\n",
       "63    4               2.358491\n",
       "53    4               2.038324\n",
       "66    4               1.562500\n",
       "59    4               1.503210\n",
       "60    4               0.796813\n",
       "56    4               0.787402\n",
       "74    4               0.483092\n",
       "64    4               0.416425\n",
       "dtype: float64"
      ]
     },
     "execution_count": 15,
     "metadata": {},
     "output_type": "execute_result"
    }
   ],
   "source": [
    "hospital_rate.order(ascending = False) #Order by hospitalization rate for each diagnosis category."
   ]
  },
  {
   "cell_type": "markdown",
   "metadata": {},
   "source": [
    "# What diagnosis had the highest hospitalization rate? \n",
    "Answer: Submersion(including Drowning) has the highest hospitalization rate as more than 45%."
   ]
  },
  {
   "cell_type": "code",
   "execution_count": 16,
   "metadata": {
    "collapsed": false
   },
   "outputs": [],
   "source": [
    "leaving = mydata.loc[mydata['disposition'] == 6] #Same logic for people left without being see.\n",
    "disposition_group6= leaving.groupby(['diag','disposition']).size()\n",
    "leaving_rate = disposition_group6.div(diag_group, level='diag') * 100"
   ]
  },
  {
   "cell_type": "code",
   "execution_count": 17,
   "metadata": {
    "collapsed": false
   },
   "outputs": [
    {
     "data": {
      "text/plain": [
       "diag  disposition\n",
       "68    6              3.314917\n",
       "71    6              3.165025\n",
       "42    6              3.030303\n",
       "73    6              2.857143\n",
       "49    6              2.325581\n",
       "58    6              2.247191\n",
       "51    6              1.953125\n",
       "65    6              1.764706\n",
       "50    6              1.600000\n",
       "60    6              1.593625\n",
       "48    6              1.275510\n",
       "62    6              1.187335\n",
       "63    6              1.100629\n",
       "59    6              0.999431\n",
       "56    6              0.787402\n",
       "72    6              0.593472\n",
       "53    6              0.488446\n",
       "74    6              0.483092\n",
       "52    6              0.468227\n",
       "55    6              0.303644\n",
       "41    6              0.207039\n",
       "64    6              0.203370\n",
       "57    6              0.061633\n",
       "dtype: float64"
      ]
     },
     "execution_count": 17,
     "metadata": {},
     "output_type": "execute_result"
    }
   ],
   "source": [
    "leaving_rate.order(ascending = False)"
   ]
  },
  {
   "cell_type": "markdown",
   "metadata": {
    "collapsed": false
   },
   "source": [
    "# What diagnosis most often concluded with the individual leaving without being seen?\n",
    "Answer: Poisoning patients most often concluded as left without medical advice with a rate of 3.3%."
   ]
  },
  {
   "cell_type": "code",
   "execution_count": 21,
   "metadata": {
    "collapsed": false
   },
   "outputs": [
    {
     "data": {
      "text/plain": [
       "\"I believe the probability of patients left without medical advice for different diagnosis are almost the same.\\nPoisoning could often concluded as hospitalization and also sometimes they doesn't need any medical care.\\nAmputation and Fracture patients often stay in hospital as well.\\n\""
      ]
     },
     "execution_count": 21,
     "metadata": {},
     "output_type": "execute_result"
    }
   ],
   "source": [
    "\"\"\"I believe the probability of patients left without medical advice for different diagnosis are almost the same.\n",
    "Poisoning could often concluded as hospitalization and also sometimes they doesn't need any medical care.\n",
    "Amputation and Fracture patients often stay in hospital as well.\n",
    "\"\"\""
   ]
  },
  {
   "cell_type": "markdown",
   "metadata": {},
   "source": [
    "# Question 4 Visualize any existing relationship between age and reported injuries"
   ]
  },
  {
   "cell_type": "code",
   "execution_count": 22,
   "metadata": {
    "collapsed": false
   },
   "outputs": [],
   "source": [
    "%matplotlib inline "
   ]
  },
  {
   "cell_type": "code",
   "execution_count": 23,
   "metadata": {
    "collapsed": true
   },
   "outputs": [],
   "source": [
    "#get matplotlib graphics to show up inline."
   ]
  },
  {
   "cell_type": "code",
   "execution_count": 24,
   "metadata": {
    "collapsed": true
   },
   "outputs": [],
   "source": [
    "import matplotlib as plt\n",
    "import numpy as np\n",
    "import matplotlib.pyplot as pyplot"
   ]
  },
  {
   "cell_type": "code",
   "execution_count": 25,
   "metadata": {
    "collapsed": true
   },
   "outputs": [],
   "source": [
    "aged_data= mydata.loc[mydata['age'] <= 100] \n",
    "#I found some rows contain people older than 100 years old, and I believe they were typos so I delete them."
   ]
  },
  {
   "cell_type": "code",
   "execution_count": 26,
   "metadata": {
    "collapsed": true
   },
   "outputs": [],
   "source": [
    "x = aged_data['age']"
   ]
  },
  {
   "cell_type": "code",
   "execution_count": 27,
   "metadata": {
    "collapsed": false
   },
   "outputs": [
    {
     "data": {
      "text/plain": [
       "<matplotlib.text.Text at 0x108570290>"
      ]
     },
     "execution_count": 27,
     "metadata": {},
     "output_type": "execute_result"
    },
    {
     "data": {
      "image/png": "[encoded data removed]",
      "text/plain": [
       "<matplotlib.figure.Figure at 0x106648e50>"
      ]
     },
     "metadata": {},
     "output_type": "display_data"
    }
   ],
   "source": [
    "pyplot.hist(x, 25, normed=1, facecolor='r', alpha=0.75) \n",
    "#Create a general age distribution of all the patients first, and each bar chart contains a range of 4 years.\n",
    "\n",
    "pyplot.title(\"Age distribution\")\n",
    "pyplot.xlabel(\"Age\")\n",
    "pyplot.ylabel(\"Frequency\")"
   ]
  },
  {
   "cell_type": "code",
   "execution_count": 28,
   "metadata": {
    "collapsed": false
   },
   "outputs": [
    {
     "data": {
      "image/png": "[encoded data removed]",
      "text/plain": [
       "<matplotlib.figure.Figure at 0x108942790>"
      ]
     },
     "metadata": {},
     "output_type": "display_data"
    }
   ],
   "source": [
    "plot1 = aged_data.boxplot(column='age', by = 'diag', widths = 0.6)\n",
    "#Age box plot distribution categorized by diagnosis,\n",
    "#we can see 41(Ingested foreign object),42(Aspirated foreign object),60(Dental injury) \n",
    "#and 69(Submersion (including Drowning)) have lots of teenager patients."
   ]
  },
  {
   "cell_type": "code",
   "execution_count": null,
   "metadata": {
    "collapsed": true
   },
   "outputs": [],
   "source": []
  },
  {
   "cell_type": "code",
   "execution_count": null,
   "metadata": {
    "collapsed": true
   },
   "outputs": [],
   "source": []
  },
  {
   "cell_type": "code",
   "execution_count": null,
   "metadata": {
    "collapsed": false
   },
   "outputs": [],
   "source": []
  },
  {
   "cell_type": "code",
   "execution_count": null,
   "metadata": {
    "collapsed": false,
    "scrolled": true
   },
   "outputs": [],
   "source": []
  },
  {
   "cell_type": "code",
   "execution_count": null,
   "metadata": {
    "collapsed": false
   },
   "outputs": [],
   "source": []
  },
  {
   "cell_type": "code",
   "execution_count": null,
   "metadata": {
    "collapsed": false,
    "scrolled": true
   },
   "outputs": [],
   "source": []
  },
  {
   "cell_type": "code",
   "execution_count": null,
   "metadata": {
    "collapsed": false
   },
   "outputs": [],
   "source": []
  },
  {
   "cell_type": "code",
   "execution_count": null,
   "metadata": {
    "collapsed": true
   },
   "outputs": [],
   "source": []
  },
  {
   "cell_type": "code",
   "execution_count": null,
   "metadata": {
    "collapsed": true
   },
   "outputs": [],
   "source": []
  }
 ],
 "metadata": {
  "kernelspec": {
   "display_name": "Python 2",
   "language": "python",
   "name": "python2"
  },
  "language_info": {
   "codemirror_mode": {
    "name": "ipython",
    "version": 2
   },
   "file_extension": ".py",
   "mimetype": "text/x-python",
   "name": "python",
   "nbconvert_exporter": "python",
   "pygments_lexer": "ipython2",
   "version": "2.7.11"
  }
 },
 "nbformat": 4,
 "nbformat_minor": 0
}
